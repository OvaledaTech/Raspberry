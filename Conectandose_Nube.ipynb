{
 "cells": [
  {
   "cell_type": "markdown",
   "metadata": {},
   "source": [
    "# <center>  **CONECTANDOSE A LA NUBE, UN PASO PARA LOT** </center>"
   ]
  },
  {
   "cell_type": "markdown",
   "metadata": {},
   "source": [
    "## Introducción al Envio de Datos"
   ]
  },
  {
   "cell_type": "markdown",
   "metadata": {},
   "source": [
    "El cliente y el servidor se comuncian mediante una dirección IP de cliente y otra de servidor, mediante un **socket** "
   ]
  },
  {
   "attachments": {},
   "cell_type": "markdown",
   "metadata": {},
   "source": [
    "<center> \n",
    "    <img src=\"Cliente_Servidor.png\"  alt=\"Drawing\"  width=\"600\"/><br>\n",
    "    </center>\n",
    "\n",
    "\n",
    "\n",
    "\n"
   ]
  },
  {
   "cell_type": "markdown",
   "metadata": {},
   "source": [
    "+ **Servidor**: Brinda un servicio a través de un número de puerto y la dirección IP\n",
    "+ **Cliente**: Usa ese servicio a traves de su dirección IP.<br>\n",
    "**Servicios Comunes**:\n",
    "+ **Correo**: Puerto 25\n",
    "+ **Web**: Puerto 80\n",
    "+ **SSH**: Puerto 22 ( Comunicacioón con la Raspberry )\n",
    "+ **VNC**: Puerto 5900 ( Escritorio Remoto)\n",
    "+ **FTP**: Puerto 21  / Descarga de Archivos)"
   ]
  },
  {
   "cell_type": "markdown",
   "metadata": {},
   "source": [
    "### Función Servidor:"
   ]
  },
  {
   "cell_type": "markdown",
   "metadata": {},
   "source": [
    "**import socket**: Librería que permite crear el objeto socket.<br>\n",
    "**s= socket.socket(socket.AF_INET,socket.SOCK_STEAM)**: <br>\n",
    "Donde: \n",
    "+ **socket.AF_INET**: Indica que se va a trabajor con IPV4.<br> \n",
    "+ **socket.SOCK_STEAM**: Indica que se va a trabajar mediante TCP\n",
    "\n",
    "**s= socket.socket(socket.AF_INET6,socket.SOCK_DGRAM)**: <br>\n",
    "Donde: \n",
    "+ **socket.AF_INET**: Indica que se va a trabajor con IPV6.<br> \n",
    "+ **socket.SOCK_STEAM**: Indica que se va a trabajar mediante UTP\n",
    "\n"
   ]
  },
  {
   "cell_type": "code",
   "execution_count": null,
   "metadata": {},
   "outputs": [],
   "source": []
  }
 ],
 "metadata": {
  "kernelspec": {
   "display_name": "Python 3.8.3 64-bit",
   "language": "python",
   "name": "python38364bitf20eeb8cdcb3459da143f3583b48e026"
  },
  "language_info": {
   "codemirror_mode": {
    "name": "ipython",
    "version": 3
   },
   "file_extension": ".py",
   "mimetype": "text/x-python",
   "name": "python",
   "nbconvert_exporter": "python",
   "pygments_lexer": "ipython3",
   "version": "3.8.3rc1"
  }
 },
 "nbformat": 4,
 "nbformat_minor": 4
}