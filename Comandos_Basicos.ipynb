{
 "cells": [
  {
   "cell_type": "markdown",
   "metadata": {},
   "source": [
    "# <center>  **RASPBERRY PI 4.0** </center>"
   ]
  },
  {
   "cell_type": "markdown",
   "metadata": {},
   "source": [
    "<center> \n",
    "    <img src=\"Raspberry.png\"  alt=\"Drawing\"  width=\"400\"/><br>\n",
    "    </center>"
   ]
  },
  {
   "cell_type": "markdown",
   "metadata": {},
   "source": [
    "## Carpetas de Raspberry"
   ]
  },
  {
   "cell_type": "markdown",
   "metadata": {},
   "source": [
    "**Home:** Permite almacenar archivos propios de cada usuario. Puedo crear varios usuarios.<br>\n",
    "**etc:** Almacena archivos de configuración de cada aplicación instalada en la raspberry.<br>\n",
    "**Media:** Almacena todo lo referente a dispositivos portbales: USB, CD,etc<br>"
   ]
  },
  {
   "cell_type": "markdown",
   "metadata": {},
   "source": [
    "## Editar archivos desde la Terminal"
   ]
  },
  {
   "cell_type": "markdown",
   "metadata": {},
   "source": [
    "Para editar un archivo desde la terminal se debe escribir el siguiente comando:\n",
    "+ **nano** repaso.py\n",
    "Una vez dentro de la interfaz si se desea ejecutar algún comando presionar la tecla **control**. Ejemplo: **control**+O : Guarda cambios en el archivo y **control**+x: Salir."
   ]
  },
  {
   "cell_type": "markdown",
   "metadata": {},
   "source": [
    "## Comandos Básicos"
   ]
  },
  {
   "cell_type": "markdown",
   "metadata": {},
   "source": [
    "1. **sudo su:** Permite ingresar como super usuario.<br>\n",
    "2. **sudo apt-get update:** Busca que paquetes se pueden actualizar<br>\n",
    "3. **sudo apt-get upgrade:** Si existe algún repositorio para actualizar, esta instrucción lo actualiza.<br>\n",
    "3.1 **pip3 install --upgrade pip**: Permite la actualización de la libreria pip3.<br>\n",
    "\n",
    "**Importante:** Estas instrucciones se las ejecuta cuando se instala por primera vez el sistema operativo o cada cierto tiempo(2 o 3 meses), para que se actualicen los repositorios.<br>\n",
    "4. **clear:** Permite borrar la pantalla.<br>\n",
    "5. **init 0:** Apaga la raspberry.<br>\n",
    "6. **init 6:** Reinicia la raspberry.<br>\n",
    "7. **pwd:** Imprime el directorio donde se esta trabajando.<br>\n",
    "8. **ls:** Enlista todos los directorios.( Hace lo mismo que el comando dir).<br>\n",
    "9. **cd:** Permite ingresar a cada una de las carpetas enlistadas. \n",
    "+ cd pi:  Permite ingresar al archivo pi.\n",
    "+ cd ..: Permite salir de 1 carpeta en 1 carpeta.<br>\n",
    "+ cd /: Permite ir a la raiz de todo.\n",
    "\n",
    "**Importante:** Con TAB se completa el nombre de la carpeta a la que desea ingresar.<br>\n",
    "10. **exit:** Permite salir de la sesion.<br>\n",
    "11. **whoami:** Permite saber que usuarios somos.<br>\n",
    "12. **pip3 install numpy** Permite instalar la libreria numpy.<br>\n",
    "**Importante:** Ejemplo de librerias python-snap7, pyModbusTCP,EasyModbus.<br>\n",
    "13. **sudo raspi-config** Ingresa a la consola de Configuración de la Raspberry.<br>\n",
    "14. **ls -l:** Permite desplegar todos los archivos o carpetas que se encuentren junto con sus respectivos permisos ya sea de escritura o de lectura.<br>\n",
    "15. **pip3 list** Enlista todas las librerias instaladas con pip3.<br>\n",
    "16. **sudo apt help** Permite visualizar la ayuda acerca del comando **apt**.<br>\n",
    "17. **mkdir:** Permite crear carpetas. Ej: **mkdir** programacion enter.<br>\n",
    "18. **touch:** Permite crear un archivo vacio. Ej: **touch** prueba.txt enter.<br>\n",
    "19. **cp:** Permite copiar un archivo. Ej: **cp** prueba.txt /home/pi/Desktop/hola enter. <br>\n",
    "20. **cp -rf**: Permite copiar directorios.<br>\n",
    "21. **mv:** Permite mover un archivo de una carpeta a otra. Ej: **mv** prueba.txt /home/pi/Desktop/hola enter.<br>\n",
    "22. **rm:** Permite remover o eliminar un archivo. Ej: **rm** prueba.txt enter.<br>\n",
    "23. **rm -rf:** Permite borrar directorios.\n",
    "24. **sudo apt-get install alien** : Permite instalar programas, en este caso el programa alien"
   ]
  },
  {
   "cell_type": "markdown",
   "metadata": {},
   "source": [
    "25. **chmod:** Permite cambiar los permisos de un archivo o directorio.\n",
    "<center> \n",
    "    <img src=\"CHMOD.png\"  alt=\"Drawing\"  width=\"500\"/><br>\n",
    "    </center>\n",
    "\n",
    "Para cambiar los permisos a un archivo o carpeta se realiza lo siguiente:<br>\n",
    "**chmod** 000 hola ( Quita todos los permisos a la carpeta hola).<br>\n",
    "**Donde:**<br>\n",
    "+ **el primer 0**: Es el dueño del archivo.<br>\n",
    "+ **el segundo 0:** Es el grupo.<br>\n",
    "+ **el tercer 0:** Son los demas usuarios.<br>\n",
    "**Ejemplo:** <br>\n",
    "+ **chmod** 200 hola  ( La carpeta posee permisos de escritura).\n",
    "+ **ls-l** + enter\n",
    "25. **cat:** permite visualizar el contenido de un archivo. Ejemplo: **cat** ejemplo1.py <br>\n",
    "26. **Ctrl+C**: Permite salir de un proceso que se este ejecutando y se cuelgue.\n",
    "\n"
   ]
  },
  {
   "cell_type": "markdown",
   "metadata": {},
   "source": [
    "## Comandos del sistema"
   ]
  },
  {
   "cell_type": "markdown",
   "metadata": {},
   "source": [
    "26. **df -h:** Permite visualizar información correspondiente a las particiones del disco duro.<br>\n",
    "27. **free -m:** Permite visualizar información de memoria RAM en MBytes.<br>\n",
    "28. **cat /proc/meminfo** Permite visualizar infromación de todos los procesos en la memoria de la raspberry. <br>\n",
    "29. **cat /proc/cpuinfo** Muestra los procesadores de la Raspberry. <br>\n"
   ]
  },
  {
   "cell_type": "markdown",
   "metadata": {},
   "source": [
    "## Comandos de Red"
   ]
  },
  {
   "cell_type": "markdown",
   "metadata": {},
   "source": [
    "30. **ifconfig** Visualiza la dirección Ethernet y Wifi.<br>\n",
    "31. **netstat -nr** Visuliza las direcciones del Router.<br>\n",
    "32. **ping:** Realiza un test de conectividad. Ejemplo: **ping** 192.168.0.100 enter<br>\n",
    "33. **traceroute:** Realiza un test de conectividad por saltos. Ejemplo: **traceroute** www.google.com. Permite visualizar en que punto de la infraestructura de la red puede haber una caida de la comunicación. <br>\n",
    "\n",
    "\n"
   ]
  },
  {
   "cell_type": "markdown",
   "metadata": {},
   "source": [
    "## Problemas comunes que ocurren en una Raspberry"
   ]
  },
  {
   "cell_type": "markdown",
   "metadata": {},
   "source": [
    "* **Cuando inicia la raspberry no se enciende el monitor**\n",
    "* **Cuando te conectas mediante VNC y no da imagen**\n"
   ]
  },
  {
   "cell_type": "markdown",
   "metadata": {},
   "source": [
    "## Comandos Básicos Python"
   ]
  },
  {
   "cell_type": "markdown",
   "metadata": {},
   "source": [
    "* Para comentar varias filas en el código se utiliza el siguiente comando: **'''** texto que se desee **'''**\n",
    "* Para cambiar el formato de un numero o letra se utilizan los siguientes comandos: **str()**,**int()**,**float()** y **bool**.\n",
    "* Los condicionales se estructuran de la siguiente manera: **a==b,a!=b,a>b,a>=b,a<b,a<=b**.\n",
    "* Cuando existen varios condicionales el primero es **if**, los demás **elif** y el último es **else**.\n",
    "\n",
    "\n",
    "\n"
   ]
  }
 ],
 "metadata": {
  "kernelspec": {
   "display_name": "Python 3",
   "language": "python",
   "name": "python3"
  },
  "language_info": {
   "codemirror_mode": {
    "name": "ipython",
    "version": 3
   },
   "file_extension": ".py",
   "mimetype": "text/x-python",
   "name": "python",
   "nbconvert_exporter": "python",
   "pygments_lexer": "ipython3",
   "version": "3.7.6"
  }
 },
 "nbformat": 4,
 "nbformat_minor": 4
}